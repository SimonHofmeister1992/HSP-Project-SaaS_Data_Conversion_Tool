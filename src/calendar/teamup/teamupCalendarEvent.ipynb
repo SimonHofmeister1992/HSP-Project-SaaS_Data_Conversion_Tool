{
 "cells": [
  {
   "cell_type": "code",
   "execution_count": 1,
   "metadata": {},
   "outputs": [],
   "source": [
    "import requests\n",
    "import json\n",
    "import import_ipynb\n",
    "from importnb import Notebook"
   ]
  },
  {
   "cell_type": "code",
   "execution_count": 2,
   "metadata": {},
   "outputs": [],
   "source": [
    "l1Interface = Notebook.load('../calendar_interfaces/l1CalendarInterface.ipynb')"
   ]
  },
  {
   "cell_type": "code",
   "execution_count": 3,
   "metadata": {},
   "outputs": [],
   "source": [
    "class teamupCalendarEvent(l1Interface.l1CalendarInterface):\n",
    "    '''defines the interface between teamup and the database'''\n",
    "    # the variables prefixes are defined as in the Hungarian Apps Style\n",
    "    \n",
    "    st_subcalendar_ids='' # ids in which calendars this event shall appear\n",
    "    st_version='' # version-nr of the event\n",
    "    gr_responseOfApi='' # temporary!!!"
   ]
  }
 ],
 "metadata": {
  "kernelspec": {
   "display_name": "Python 3",
   "language": "python",
   "name": "python3"
  },
  "language_info": {
   "codemirror_mode": {
    "name": "ipython",
    "version": 3
   },
   "file_extension": ".py",
   "mimetype": "text/x-python",
   "name": "python",
   "nbconvert_exporter": "python",
   "pygments_lexer": "ipython3",
   "version": "3.8.2"
  }
 },
 "nbformat": 4,
 "nbformat_minor": 4
}
