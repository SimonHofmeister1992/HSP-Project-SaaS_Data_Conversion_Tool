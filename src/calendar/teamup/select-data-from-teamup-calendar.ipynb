{
 "cells": [
  {
   "cell_type": "code",
   "execution_count": 6,
   "metadata": {},
   "outputs": [],
   "source": [
    "import requests\n",
    "import json\n",
    "import import_ipynb\n",
    "import login_data as crd\n",
    "from importnb import Notebook"
   ]
  },
  {
   "cell_type": "code",
   "execution_count": 7,
   "metadata": {},
   "outputs": [],
   "source": [
    "teamupNotebook=Notebook.load('../teamup/teamup_calendar_interface.ipynb')"
   ]
  },
  {
   "cell_type": "code",
   "execution_count": 8,
   "metadata": {},
   "outputs": [],
   "source": [
    "class teamupInterface():\n",
    "    uniqueCalendarId='kst496bmane3rty9b7'\n",
    "    \n",
    "    def request_data_of_teamup(self):\n",
    "        response = requests.get('https://api.teamup.com/' + self.uniqueCalendarId + '/events?startDate=2017-08-01&endDate=2021-08-01', headers={\n",
    "    'Teamup-Token': crd.teamup_api_key\n",
    "        })\n",
    "        if not response:\n",
    "            return 'an error occured requesting the teamup api'\n",
    "        if response:\n",
    "            response_content_plain=response.text\n",
    "            response_content_json=json.loads(response_content_plain)\n",
    "            tci=''\n",
    "            for event in response_content_json['events']:\n",
    "                tci=teamupNotebook.teamupCalendarEvent()\n",
    "                tci.extract_from_API(event)"
   ]
  },
  {
   "cell_type": "code",
   "execution_count": 9,
   "metadata": {},
   "outputs": [],
   "source": [
    "ti = teamupInterface()"
   ]
  },
  {
   "cell_type": "code",
   "execution_count": 10,
   "metadata": {},
   "outputs": [
    {
     "ename": "NameError",
     "evalue": "name 'uniqueCalendarId' is not defined",
     "output_type": "error",
     "traceback": [
      "\u001b[0;31m---------------------------------------------------------------------------\u001b[0m",
      "\u001b[0;31mNameError\u001b[0m                                 Traceback (most recent call last)",
      "\u001b[0;32m<ipython-input-10-1261d0a47a24>\u001b[0m in \u001b[0;36m<module>\u001b[0;34m\u001b[0m\n\u001b[0;32m----> 1\u001b[0;31m \u001b[0mti\u001b[0m\u001b[0;34m.\u001b[0m\u001b[0mrequest_data_of_teamup\u001b[0m\u001b[0;34m(\u001b[0m\u001b[0;34m)\u001b[0m\u001b[0;34m\u001b[0m\u001b[0;34m\u001b[0m\u001b[0m\n\u001b[0m",
      "\u001b[0;32m<ipython-input-8-d6a833998013>\u001b[0m in \u001b[0;36mrequest_data_of_teamup\u001b[0;34m(self)\u001b[0m\n\u001b[1;32m      3\u001b[0m \u001b[0;34m\u001b[0m\u001b[0m\n\u001b[1;32m      4\u001b[0m     \u001b[0;32mdef\u001b[0m \u001b[0mrequest_data_of_teamup\u001b[0m\u001b[0;34m(\u001b[0m\u001b[0mself\u001b[0m\u001b[0;34m)\u001b[0m\u001b[0;34m:\u001b[0m\u001b[0;34m\u001b[0m\u001b[0;34m\u001b[0m\u001b[0m\n\u001b[0;32m----> 5\u001b[0;31m         response = requests.get('https://api.teamup.com/' + uniqueCalendarId + '/events?startDate=2017-08-01&endDate=2021-08-01', headers={\n\u001b[0m\u001b[1;32m      6\u001b[0m     \u001b[0;34m'Teamup-Token'\u001b[0m\u001b[0;34m:\u001b[0m \u001b[0mcrd\u001b[0m\u001b[0;34m.\u001b[0m\u001b[0mteamup_api_key\u001b[0m\u001b[0;34m\u001b[0m\u001b[0;34m\u001b[0m\u001b[0m\n\u001b[1;32m      7\u001b[0m         })\n",
      "\u001b[0;31mNameError\u001b[0m: name 'uniqueCalendarId' is not defined"
     ]
    }
   ],
   "source": [
    "ti.request_data_of_teamup()"
   ]
  }
 ],
 "metadata": {
  "kernelspec": {
   "display_name": "Python 3",
   "language": "python",
   "name": "python3"
  },
  "language_info": {
   "codemirror_mode": {
    "name": "ipython",
    "version": 3
   },
   "file_extension": ".py",
   "mimetype": "text/x-python",
   "name": "python",
   "nbconvert_exporter": "python",
   "pygments_lexer": "ipython3",
   "version": "3.8.2"
  }
 },
 "nbformat": 4,
 "nbformat_minor": 4
}
