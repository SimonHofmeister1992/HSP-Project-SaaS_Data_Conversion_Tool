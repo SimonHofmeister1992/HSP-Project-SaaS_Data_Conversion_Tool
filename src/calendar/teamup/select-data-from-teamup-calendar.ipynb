{
 "cells": [
  {
   "cell_type": "code",
   "execution_count": 1,
   "metadata": {},
   "outputs": [
    {
     "name": "stdout",
     "output_type": "stream",
     "text": [
      "importing Jupyter notebook from login_data.ipynb\n"
     ]
    }
   ],
   "source": [
    "import requests\n",
    "import json\n",
    "import import_ipynb\n",
    "import login_data as crd"
   ]
  },
  {
   "cell_type": "code",
   "execution_count": 2,
   "metadata": {},
   "outputs": [
    {
     "name": "stdout",
     "output_type": "stream",
     "text": [
      "200\n"
     ]
    }
   ],
   "source": [
    "response = requests.get('https://api.teamup.com/kst496bmane3rty9b7/events?startDate=2017-08-01&endDate=2021-08-01', headers={\n",
    "    'Teamup-Token': crd.teamup_api_key\n",
    "})\n",
    "print(response.status_code)"
   ]
  },
  {
   "cell_type": "code",
   "execution_count": 3,
   "metadata": {},
   "outputs": [
    {
     "name": "stdout",
     "output_type": "stream",
     "text": [
      "title Test-Termin\n",
      "{'id': '706262196-rid-1588228200', 'series_id': '706262196', 'remote_id': None, 'subcalendar_id': 8090698, 'subcalendar_ids': [8090698], 'all_day': False, 'rrule': 'FREQ=WEEKLY;BYDAY=MO,TU,WE,TH,FR;COUNT=3', 'title': 'Test-Termin', 'who': 'hofisi92@gmail.com; hofisi92dev@gmail.com', 'location': 'OTH Regensburg', 'notes': '<p>Test-Beschreibung</p>', 'version': '5ea968303d158', 'readonly': False, 'tz': 'Europe/Berlin', 'start_dt': '2020-04-30T08:30:00+02:00', 'end_dt': '2020-04-30T09:30:00+02:00', 'ristart_dt': '2020-04-30T06:30:00+00:00', 'rsstart_dt': '2020-04-30T08:30:00+02:00', 'creation_dt': '2020-04-27T22:46:23+02:00', 'update_dt': '2020-04-29T13:42:40+02:00', 'delete_dt': None, 'signup_enabled': True, 'signup_deadline': '2020-04-30T08:30:00+02:00', 'signup_public': False, 'signup_visibility': 'users_with_modify_permission', 'signup_limit': 10, 'comments_enabled': True, 'comments_privacy': 1, 'comments_visibility': 'users_with_modify_permission', 'custom': {}, 'signups': []}\n",
      "title Test-Termin 30.04.\n",
      "{'id': '706262333', 'series_id': None, 'remote_id': None, 'subcalendar_id': 8090698, 'subcalendar_ids': [8090698, 8090699], 'all_day': False, 'rrule': '', 'title': 'Test-Termin 30.04.', 'who': 'hofisi92@gmail.com; hofisi92dev@gmail.com', 'location': 'OTH Regensburg', 'notes': '<p>Test-Beschreibung</p>', 'version': '5ea744d6d5208', 'readonly': False, 'tz': 'Europe/Berlin', 'start_dt': '2020-05-01T08:30:00+02:00', 'end_dt': '2020-05-01T09:30:00+02:00', 'ristart_dt': None, 'rsstart_dt': None, 'creation_dt': '2020-04-27T22:47:18+02:00', 'update_dt': None, 'delete_dt': None, 'signup_enabled': True, 'signup_deadline': '2020-05-01T08:30:00+02:00', 'signup_public': False, 'signup_visibility': 'users_with_modify_permission', 'signup_limit': 10, 'comments_enabled': True, 'comments_privacy': 1, 'comments_visibility': 'users_with_modify_permission', 'custom': {}, 'signups': []}\n",
      "title Test-Termin\n",
      "{'id': '706262196-rid-1588573800', 'series_id': '706262196', 'remote_id': None, 'subcalendar_id': 8090698, 'subcalendar_ids': [8090698], 'all_day': False, 'rrule': 'FREQ=WEEKLY;BYDAY=MO,TU,WE,TH,FR;COUNT=3', 'title': 'Test-Termin', 'who': 'hofisi92@gmail.com; hofisi92dev@gmail.com', 'location': 'OTH Regensburg', 'notes': '<p>Test-Beschreibung</p>', 'version': '5ea968303d158', 'readonly': False, 'tz': 'Europe/Berlin', 'start_dt': '2020-05-04T08:30:00+02:00', 'end_dt': '2020-05-04T09:30:00+02:00', 'ristart_dt': '2020-05-04T06:30:00+00:00', 'rsstart_dt': '2020-04-30T08:30:00+02:00', 'creation_dt': '2020-04-27T22:46:23+02:00', 'update_dt': '2020-04-29T13:42:40+02:00', 'delete_dt': None, 'signup_enabled': True, 'signup_deadline': '2020-05-04T08:30:00+02:00', 'signup_public': False, 'signup_visibility': 'users_with_modify_permission', 'signup_limit': 10, 'comments_enabled': True, 'comments_privacy': 1, 'comments_visibility': 'users_with_modify_permission', 'custom': {}, 'signups': []}\n"
     ]
    }
   ],
   "source": [
    "if not response:\n",
    "    print('an error occured requesting the teamup api')\n",
    "if response:\n",
    "    response_content_plain=response.text\n",
    "    response_content_json=json.loads(response_content_plain)\n",
    "    for event in response_content_json['events']:\n",
    "        print('title', event['title'])\n",
    "        print(event)"
   ]
  }
 ],
 "metadata": {
  "kernelspec": {
   "display_name": "Python 3",
   "language": "python",
   "name": "python3"
  },
  "language_info": {
   "codemirror_mode": {
    "name": "ipython",
    "version": 3
   },
   "file_extension": ".py",
   "mimetype": "text/x-python",
   "name": "python",
   "nbconvert_exporter": "python",
   "pygments_lexer": "ipython3",
   "version": "3.8.2"
  }
 },
 "nbformat": 4,
 "nbformat_minor": 4
}
