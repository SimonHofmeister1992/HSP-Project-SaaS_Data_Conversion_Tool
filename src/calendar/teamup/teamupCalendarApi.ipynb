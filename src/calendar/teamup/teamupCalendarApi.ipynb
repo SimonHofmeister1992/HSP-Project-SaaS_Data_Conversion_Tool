{
 "cells": [
  {
   "cell_type": "code",
   "execution_count": 46,
   "metadata": {},
   "outputs": [],
   "source": [
    "import requests\n",
    "import json\n",
    "import import_ipynb\n",
    "import login_data as crd\n",
    "from importnb import Notebook"
   ]
  },
  {
   "cell_type": "code",
   "execution_count": 61,
   "metadata": {},
   "outputs": [],
   "source": [
    "teamupCalendarEventNotebook=Notebook.load('../teamup/teamupCalendarEvent.ipynb')\n",
    "tokenExchanger=Notebook.load('../../general/tokenExchanger.ipynb')"
   ]
  },
  {
   "cell_type": "code",
   "execution_count": 62,
   "metadata": {},
   "outputs": [],
   "source": [
    "class teamupInterface(tokenExchanger.TokenExchanger):\n",
    "    uniqueCalendarId='kst496bmane3rty9b7'\n",
    "    \n",
    "    bidirectionalDictionaryOfTokensAPIvsObject = bidict.bidict(\n",
    "        {\n",
    "            #name attribute api, name attribute python object\n",
    "            'title': 'title',\n",
    "            'notes': 'text',\n",
    "            'creation_dt': 'created',\n",
    "            'update_dt' : 'edited',\n",
    "            'id': 'st_id',\n",
    "            'version': 'st_version',\n",
    "        }\n",
    "    ) \n",
    "    \n",
    "    # these fields must appear on the left side in the bd attribute\n",
    "    fieldsNotToWriteToAPI = list(\n",
    "        {\n",
    "            'id',\n",
    "            'version',\n",
    "        }\n",
    "    )\n",
    "    \n",
    "    def extractFromApi(self):\n",
    "        response = requests.get('https://api.teamup.com/' + self.uniqueCalendarId + '/events?startDate=2017-08-01&endDate=2021-08-01', headers={\n",
    "            'Teamup-Token': crd.teamup_api_key\n",
    "        })\n",
    "        if not response:\n",
    "            return 'an error occured requesting the teamup api'\n",
    "        if response:\n",
    "            response_content_plain = response.text\n",
    "            response_content_json = json.loads(response_content_plain)\n",
    "            events = response_content_json['events'][0]\n",
    "            parsedEvents = self.convertJSONTokensFromAPIToObjectAsJSON(events)\n",
    "            return parsedEvents\n",
    "            # TODO: convert to object\n",
    "            #return response_content_json['events']\n",
    "    \n",
    "    def injectInApi(self, jsonobject):\n",
    "        reparsedJSON = self.convertJSONTokensFromObjectAsJSONToAPI(jsonobject)\n",
    "        #TODO: logic to write into the api\n",
    "        return reparsedJSON"
   ]
  },
  {
   "cell_type": "code",
   "execution_count": 63,
   "metadata": {},
   "outputs": [],
   "source": [
    "ti = teamupInterface()"
   ]
  },
  {
   "cell_type": "code",
   "execution_count": 64,
   "metadata": {},
   "outputs": [
    {
     "name": "stdout",
     "output_type": "stream",
     "text": [
      "{'series_id': '706262196', 'remote_id': None, 'subcalendar_id': 8090698, 'subcalendar_ids': [8090698], 'all_day': False, 'rrule': 'FREQ=WEEKLY;BYDAY=MO,TU,WE,TH,FR;COUNT=3', 'who': 'hofisi92@gmail.com; hofisi92dev@gmail.com', 'location': 'OTH Regensburg', 'readonly': False, 'tz': 'Europe/Berlin', 'start_dt': '2020-04-30T08:30:00+02:00', 'end_dt': '2020-04-30T09:30:00+02:00', 'ristart_dt': '2020-04-30T06:30:00+00:00', 'rsstart_dt': '2020-04-30T08:30:00+02:00', 'delete_dt': None, 'signup_enabled': True, 'signup_deadline': '2020-04-30T08:30:00+02:00', 'signup_public': False, 'signup_visibility': 'users_with_modify_permission', 'signup_limit': 10, 'comments_enabled': True, 'comments_privacy': 1, 'comments_visibility': 'users_with_modify_permission', 'custom': {}, 'signups': [], 'title': 'Test-Termin', 'text': '<p>Test-Beschreibung</p>', 'created': '2020-04-27T22:46:23+02:00', 'edited': '2020-04-29T13:42:40+02:00', 'st_id': '706262196-rid-1588228200', 'st_version': '5ea968303d158'}\n"
     ]
    }
   ],
   "source": [
    "parsedEvents=ti.extractFromApi()\n",
    "print(parsedEvents)"
   ]
  },
  {
   "cell_type": "code",
   "execution_count": 65,
   "metadata": {},
   "outputs": [
    {
     "name": "stdout",
     "output_type": "stream",
     "text": [
      "{'title': 'Test-Termin', 'notes': '<p>Test-Beschreibung</p>', 'creation_dt': '2020-04-27T22:46:23+02:00', 'update_dt': '2020-04-29T13:42:40+02:00'}\n"
     ]
    }
   ],
   "source": [
    "reparsedEvents=ti.injectInApi(parsedEvents)\n",
    "print(reparsedEvents)"
   ]
  }
 ],
 "metadata": {
  "kernelspec": {
   "display_name": "Python 3",
   "language": "python",
   "name": "python3"
  },
  "language_info": {
   "codemirror_mode": {
    "name": "ipython",
    "version": 3
   },
   "file_extension": ".py",
   "mimetype": "text/x-python",
   "name": "python",
   "nbconvert_exporter": "python",
   "pygments_lexer": "ipython3",
   "version": "3.8.2"
  }
 },
 "nbformat": 4,
 "nbformat_minor": 4
}
