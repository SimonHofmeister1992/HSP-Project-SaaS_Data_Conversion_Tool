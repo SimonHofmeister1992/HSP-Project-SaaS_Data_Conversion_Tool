{
 "cells": [
  {
   "cell_type": "code",
   "execution_count": null,
   "metadata": {},
   "outputs": [],
   "source": [
    "import requests\n",
    "import json\n",
    "import import_ipynb\n",
    "from importnb import Notebook"
   ]
  },
  {
   "cell_type": "code",
   "execution_count": null,
   "metadata": {},
   "outputs": [],
   "source": [
    "Notebook.load('../calendar_interfaces/l1CalendarInterface.ipynb')\n",
    "l2=Notebook.load('../calendar_interfaces/l2CalendarInterface.ipynb')"
   ]
  },
  {
   "cell_type": "code",
   "execution_count": null,
   "metadata": {},
   "outputs": [],
   "source": [
    "class teamupCalendarEvent(l2.l2CalendarInterface):\n",
    "    '''defines the interface between teamup and the database'''\n",
    "    # the variables prefixes are defined as in the Hungarian Apps Style\n",
    "    \n",
    "    st_subcalendar_ids='' # ids in which calendars this event shall appear\n",
    "    st_version='' # version-nr of the event\n",
    "    gr_responseOfApi='' # temporary!!!\n",
    "    \n",
    "    def inject_in_API (self):\n",
    "        \"\"\"function for the injection of given data from JSON into the service\"\"\"\n",
    "        #get attribute data from JSON and inject it into the service\n",
    "        return     \n",
    "    \n",
    "    def extract_from_API (self, event):\n",
    "        \"\"\"function for the injection of given data from the service into JSON\"\"\"\n",
    "        #get attribute data from service and convert it to JSON\n",
    "        print(event['title'])\n",
    "        return \n",
    "    \n",
    "    def inject_in_Database (self):\n",
    "        \"\"\"function for the injection of given data from JSON into the database\"\"\"\n",
    "        #get attribute data from JSON and add it to the database\n",
    "        return\n",
    "       \n",
    "    def extract_from_Database (self):\n",
    "        \"\"\"function for the injection of given data from the database into the JSON\"\"\"\n",
    "        #extract data from database and convert it to JSON\n",
    "        return\n"
   ]
  }
 ],
 "metadata": {
  "kernelspec": {
   "display_name": "Python 3",
   "language": "python",
   "name": "python3"
  },
  "language_info": {
   "codemirror_mode": {
    "name": "ipython",
    "version": 3
   },
   "file_extension": ".py",
   "mimetype": "text/x-python",
   "name": "python",
   "nbconvert_exporter": "python",
   "pygments_lexer": "ipython3",
   "version": "3.8.2"
  }
 },
 "nbformat": 4,
 "nbformat_minor": 4
}
