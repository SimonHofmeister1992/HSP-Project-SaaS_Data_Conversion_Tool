{
 "cells": [
  {
   "cell_type": "code",
   "execution_count": 3,
   "metadata": {},
   "outputs": [],
   "source": [
    "import sys\n",
    "sys.path.append(\"../../general\")\n",
    "from apiBase import apiBase"
   ]
  },
  {
   "cell_type": "code",
   "execution_count": 70,
   "metadata": {},
   "outputs": [],
   "source": [
    "class l1CalendarInterface(apiBase):\n",
    "    '''interface which contains attributes defined in all calendars'''\n",
    "    # the variables prefixes are defined as in the Hungarian Apps Style, Extension: dt=Date\n",
    "    \n",
    "    class attendee():\n",
    "        '''person, room or thing attending the event'''\n",
    "        st_displayName=''\n",
    "        st_email=''\n",
    "    \n",
    "    class recurrence():\n",
    "        '''recurrence information of the event'''\n",
    "        st_pattern=''\n",
    "        st_recurringEventId=''\n",
    "    \n",
    "    dt_endTime=''\n",
    "    dt_originalStartTime=''\n",
    "    dt_startTime=''\n",
    "    \n",
    "    f_endTimeUnspecified=False # true if the event is all day\n",
    "    f_guestsCanModify=False # true if guests are able to modify the event\n",
    "    f_status=False # true if meeting is declined or deleted\n",
    "    \n",
    "    rg_attendees=[] # structure defining attendees of the event\n",
    "    rg_recurrence= recurrence() # structure defining recurrence patterns\n",
    "   \n",
    "    st_iCalUid='' #calendar_internal id to be identified outside the calendar    \n",
    "    st_id='' # calendar_internal id\n",
    "    st_kind='' # calendar_internal kind of the event\n",
    "    st_location=''   "
   ]
  }
 ],
 "metadata": {
  "kernelspec": {
   "display_name": "Python 3",
   "language": "python",
   "name": "python3"
  },
  "language_info": {
   "codemirror_mode": {
    "name": "ipython",
    "version": 3
   },
   "file_extension": ".py",
   "mimetype": "text/x-python",
   "name": "python",
   "nbconvert_exporter": "python",
   "pygments_lexer": "ipython3",
   "version": "3.8.2"
  }
 },
 "nbformat": 4,
 "nbformat_minor": 4
}
