{
 "cells": [
  {
   "cell_type": "code",
   "execution_count": 1,
   "metadata": {},
   "outputs": [],
   "source": [
    "import sys\n",
    "sys.path.append(\"../../general\")\n",
    "from apiBase import apiBase"
   ]
  },
  {
   "cell_type": "code",
   "execution_count": 2,
   "metadata": {},
   "outputs": [],
   "source": [
    "class l1CalendarInterface(apiBase):\n",
    "    '''interface which contains attributes defined in all calendars'''\n",
    "    # the variables prefixes are defined as in the Hungarian Apps Style, Extension: dt=Date\n",
    "    \n",
    "    class attendee():\n",
    "        '''person, room or thing attending the event'''\n",
    "        st_displayName=''\n",
    "        st_email=''\n",
    "    \n",
    "    class recurrence():\n",
    "        '''recurrence information of the event'''\n",
    "        st_pattern=''\n",
    "        st_recurringEventId=''\n",
    "        \n",
    "    class attachment():\n",
    "        st_fileUrl=''\n",
    "        st_title=''\n",
    "    \n",
    "    class conferenceData():\n",
    "        class conferenceSolution():\n",
    "            st_name=''\n",
    "            \n",
    "        class entryPoint():\n",
    "            st_uri=''\n",
    "            \n",
    "    class reminder():\n",
    "        class override():\n",
    "            ul_minutes=0\n",
    "        gr_overrides=[]\n",
    "    \n",
    "    dt_endTime=''\n",
    "    dt_originalStartTime=''\n",
    "    dt_startTime=''\n",
    "    \n",
    "    f_endTimeUnspecified=False # true if the event is all day\n",
    "    f_guestsCanModify=False # true if guests are able to modify the event\n",
    "    f_status=False # true if meeting is declined or deleted\n",
    "    f_transparency=False # true if event blocks time-span of duration in calendar\n",
    "    \n",
    "    rg_attendees=[] # structure defining attendees of the event\n",
    "    rg_conferenceData=conferenceData()\n",
    "    rg_entryPoints=[]\n",
    "    rg_recurrence= recurrence() # structure defining recurrence patterns\n",
    "   \n",
    "    st_iCalUid='' #calendar_internal id to be identified outside the calendar    \n",
    "    st_id='' # calendar_internal id\n",
    "    st_htmlLink='' # link to the calendar event\n",
    "    st_kind='' # calendar_internal kind of the event\n",
    "    st_location=''   \n",
    "    st_visibility='' # text value indicating the privacy level, if the event shall be shown to others\n",
    "\n",
    "    ul_duration=0 # duration of the event in minutes    "
   ]
  }
 ],
 "metadata": {
  "kernelspec": {
   "display_name": "Python 3",
   "language": "python",
   "name": "python3"
  },
  "language_info": {
   "codemirror_mode": {
    "name": "ipython",
    "version": 3
   },
   "file_extension": ".py",
   "mimetype": "text/x-python",
   "name": "python",
   "nbconvert_exporter": "python",
   "pygments_lexer": "ipython3",
   "version": "3.8.2"
  }
 },
 "nbformat": 4,
 "nbformat_minor": 4
}
