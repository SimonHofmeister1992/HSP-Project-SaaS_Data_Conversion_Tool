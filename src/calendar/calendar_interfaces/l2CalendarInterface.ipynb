{
 "cells": [
  {
   "cell_type": "code",
   "execution_count": null,
   "metadata": {},
   "outputs": [],
   "source": [
    "import import_ipynb\n",
    "from l1CalendarInterface import l1CalendarInterface"
   ]
  },
  {
   "cell_type": "code",
   "execution_count": null,
   "metadata": {},
   "outputs": [],
   "source": [
    "class l2CalendarInterface(l1CalendarInterface):\n",
    "    '''defines attributes which are defined by several calendars'''\n",
    "    # the variables prefixes are defined as in the Hungarian Apps Style\n",
    "    \n",
    "    class attachment():\n",
    "        st_fileUrl=''\n",
    "        st_title=''\n",
    "    \n",
    "    class conferenceData():\n",
    "        class conferenceSolution():\n",
    "            st_name=''\n",
    "            \n",
    "        class entryPoint():\n",
    "            st_uri=''\n",
    "            \n",
    "    class reminder():\n",
    "        class override():\n",
    "            ul_minutes=0\n",
    "        gr_overrides=[]\n",
    "            \n",
    "    f_transparency=False # true if event blocks time-span of duration in calendar\n",
    "        \n",
    "    gr_conferenceData=conferenceData()\n",
    "    gr_entryPoints=[]\n",
    "        \n",
    "    st_htmlLink='' # link to the calendar event\n",
    "    st_visibility='' # text value indicating the privacy level, if the event shall be shown to others\n",
    "        \n",
    "    ul_duration=0 # duration of the event in minutes"
   ]
  }
 ],
 "metadata": {
  "kernelspec": {
   "display_name": "Python 3",
   "language": "python",
   "name": "python3"
  },
  "language_info": {
   "codemirror_mode": {
    "name": "ipython",
    "version": 3
   },
   "file_extension": ".py",
   "mimetype": "text/x-python",
   "name": "python",
   "nbconvert_exporter": "python",
   "pygments_lexer": "ipython3",
   "version": "3.8.2"
  }
 },
 "nbformat": 4,
 "nbformat_minor": 4
}
