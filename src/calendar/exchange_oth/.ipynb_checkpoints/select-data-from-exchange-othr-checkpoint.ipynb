{
 "cells": [
  {
   "cell_type": "code",
   "execution_count": 130,
   "metadata": {},
   "outputs": [],
   "source": [
    "from exchangelib import DELEGATE, Account, Configuration, Credentials\n",
    "from exchangelib.autodiscover import AutodiscoverProtocol\n",
    "import import_ipynb\n",
    "import credentials as crd"
   ]
  },
  {
   "cell_type": "code",
   "execution_count": 138,
   "metadata": {},
   "outputs": [],
   "source": [
    "config = Configuration(server='exchange.othr.de', credentials=crd.credentials)\n",
    "account = Account(primary_smtp_address='simon1.hofmeister@st.othr.de', config=config,\n",
    "                  autodiscover=False, access_type=DELEGATE)"
   ]
  },
  {
   "cell_type": "code",
   "execution_count": 132,
   "metadata": {},
   "outputs": [
    {
     "name": "stdout",
     "output_type": "stream",
     "text": [
      "Einladung: Besprechung HSP - Mi 29. Apr. 2020 2PM - 3PM (MESZ) (simon1.hofmeister@st.othr.de)\n",
      "WIS Herr Hofmeister\n"
     ]
    }
   ],
   "source": [
    "for calendar_item in account.calendar.all(): #all().order_by('datetime_received')\n",
    "    print(calendar_item.subject)"
   ]
  },
  {
   "cell_type": "code",
   "execution_count": 140,
   "metadata": {},
   "outputs": [
    {
     "name": "stdout",
     "output_type": "stream",
     "text": [
      "Kalender:  Kalender , Termin:  Einladung: Besprechung HSP - Mi 29. Apr. 2020 2PM - 3PM (MESZ) (simon1.hofmeister@st.othr.de)\n",
      "Kalender:  Kalender , Termin:  WIS Herr Hofmeister\n",
      "Kalender:  Geburtstage , Termin:  Geburtstag von ads ddsa\n",
      "Kalender:  testkalender , Termin:  test-termin\n"
     ]
    }
   ],
   "source": [
    "for calendar_item in account.calendar.all(): #all().order_by('datetime_received')\n",
    "    print('Kalender: ', 'Kalender', ', Termin: ', calendar_item.subject)\n",
    "for cal in account.calendar.tree().split('\\n'):\n",
    "    while cal[0] < '0' or cal[0] > 'z':\n",
    "        cal = cal[1:]\n",
    "    if cal != 'Kalender' and cal != 'Calendar':\n",
    "        for calendar_item in (account.calendar / cal).all():\n",
    "            print('Kalender: ', cal, ', Termin: ', calendar_item.subject)"
   ]
  }
 ],
 "metadata": {
  "kernelspec": {
   "display_name": "Python 3",
   "language": "python",
   "name": "python3"
  },
  "language_info": {
   "codemirror_mode": {
    "name": "ipython",
    "version": 3
   },
   "file_extension": ".py",
   "mimetype": "text/x-python",
   "name": "python",
   "nbconvert_exporter": "python",
   "pygments_lexer": "ipython3",
   "version": "3.8.2"
  }
 },
 "nbformat": 4,
 "nbformat_minor": 4
}
