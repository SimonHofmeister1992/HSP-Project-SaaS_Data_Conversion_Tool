{
 "cells": [
  {
   "cell_type": "code",
   "execution_count": null,
   "metadata": {},
   "outputs": [],
   "source": [
    "from importnb import Notebook"
   ]
  },
  {
   "cell_type": "code",
   "execution_count": null,
   "metadata": {},
   "outputs": [],
   "source": [
    "bidict=Notebook.load('../../general/bidict.ipynb')"
   ]
  },
  {
   "cell_type": "code",
   "execution_count": null,
   "metadata": {},
   "outputs": [],
   "source": [
    "class TokenExchanger:\n",
    "    bidirectionalDictionaryOfTokensAPIvsObject = bidict.bidict(\n",
    "        {\n",
    "            #name attribute api, name attribute python object\n",
    "            '': '',\n",
    "        }\n",
    "    ) \n",
    "    \n",
    "    # these fields must appear on the left side in the bd attribute\n",
    "    fieldsNotToWriteToAPI = list(\n",
    "        {\n",
    "            '',\n",
    "        }\n",
    "    )\n",
    "    \n",
    "    def convertJSONTokensFromAPIToObjectAsJSON(self, jsonobject):\n",
    "        for key in self.bidirectionalDictionaryOfTokensAPIvsObject:\n",
    "            value = jsonobject.pop(key)\n",
    "            jsonobject[self.bidirectionalDictionaryOfTokensAPIvsObject[key]] = value\n",
    "        return jsonobject\n",
    "    \n",
    "    def convertJSONTokensFromObjectAsJSONToAPI(self, jsonobject):\n",
    "        listOfNonExistingKeys = dict()\n",
    "        for key in self.bidirectionalDictionaryOfTokensAPIvsObject.inverse:\n",
    "            value = jsonobject.pop(key)\n",
    "            jsonobject[self.bidirectionalDictionaryOfTokensAPIvsObject.inverse[key][0]] = value\n",
    "        i=0\n",
    "        for key in jsonobject:\n",
    "            if key not in self.bidirectionalDictionaryOfTokensAPIvsObject:\n",
    "                listOfNonExistingKeys[i] = key\n",
    "                i = i+1\n",
    "        for key in listOfNonExistingKeys:\n",
    "            jsonobject.pop(listOfNonExistingKeys[key])\n",
    "        for key in self.fieldsNotToWriteToAPI:\n",
    "            jsonobject.pop(key)\n",
    "        return jsonobject"
   ]
  }
 ],
 "metadata": {
  "kernelspec": {
   "display_name": "Python 3",
   "language": "python",
   "name": "python3"
  },
  "language_info": {
   "codemirror_mode": {
    "name": "ipython",
    "version": 3
   },
   "file_extension": ".py",
   "mimetype": "text/x-python",
   "name": "python",
   "nbconvert_exporter": "python",
   "pygments_lexer": "ipython3",
   "version": "3.8.2"
  }
 },
 "nbformat": 4,
 "nbformat_minor": 4
}
